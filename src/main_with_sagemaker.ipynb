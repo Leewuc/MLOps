import subprocess
from datetime import datetime

today = datetime.now().strftime("%Y-%m-%d")
namespace = "dev"
model_name = "ncf"
# PREPARE TRAIN DATA
command = f"""
python main_with_sagemaker.py \
  --namespace {namespace} \
  --base_date {today} \
  --task prepare-train-data \
  --instance_type ml.t3.medium \
  --model_name {model_name}
"""
p = subprocess.run(command.split(), stdout=subprocess.PIPE, stderr=subprocess.STDOUT)
print(p.stdout.decode("utf-8"))

# PREPARE INFERENCE DATA
command = f"""
python main_with_sagemaker.py \
  --namespace {namespace} \
  --base_date {today} \
  --task prepare-inference-data \
  --dataset_name prepared_watch_log \
  --instance_type ml.t3.medium \
  --model_name {model_name}
"""
p = subprocess.run(command.split(), stdout=subprocess.PIPE, stderr=subprocess.STDOUT)
print(p.stdout.decode("utf-8"))


# TRAIN
command = f"""
python main_with_sagemaker.py \
  --namespace {namespace} \
  --base_date {today} \
  --task train \
  --dataset_name prepared_watch_log \
  --instance_type ml.m5.large  \
  --epoch 10 \
  --use_spot True \
  --model_name {model_name}
"""
p = subprocess.run(command.split(), stdout=subprocess.PIPE, stderr=subprocess.STDOUT)
print(p.stdout.decode("utf-8"))
# INFERENCE
training_job_name = "<TRAINING_JOB_NAME>"  # 학습 작업 완료 후 학습 태스크명 입력

command = f"""
python main_with_sagemaker.py \
  --namespace {namespace} \
  --base_date {today} \
  --task inference \
  --num_workers 0 \
  --dataset_name prepared_watch_log \
  --instance_type ml.t3.medium \
  --dependency_job_name {training_job_name} \
  --model_name {model_name} \
  --top_k 16
"""
p = subprocess.run(command.split(), stdout=subprocess.PIPE, stderr=subprocess.STDOUT)
print(p.stdout.decode("utf-8"))
